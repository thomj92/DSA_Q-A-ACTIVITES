{
 "cells": [
  {
   "cell_type": "markdown",
   "metadata": {},
   "source": [
    "## 1. Complete the following code to find the area of an equilateral triangle. Output should be as displayed"
   ]
  },
  {
   "cell_type": "code",
   "execution_count": 15,
   "metadata": {},
   "outputs": [
    {
     "name": "stdin",
     "output_type": "stream",
     "text": [
      "Enter the side of the equilateral triangle 5\n"
     ]
    },
    {
     "name": "stdout",
     "output_type": "stream",
     "text": [
      "Area =  10.825\n"
     ]
    }
   ],
   "source": [
    "import math\n",
    "side = float(input(\"Enter the side of the equilateral triangle: \"))\n",
    "area = ((math.sqrt(3))/4)*pow(side,2)\n"
   ]
  },
  {
   "cell_type": "markdown",
   "metadata": {},
   "source": [
    "## 2. Write a program to count the number of each characters in a string"
   ]
  },
  {
   "cell_type": "code",
   "execution_count": 1,
   "metadata": {},
   "outputs": [
    {
     "name": "stdout",
     "output_type": "stream",
     "text": [
      "Enter the string\n",
      "Hello\n",
      "{'H': 1, 'e': 1, 'l': 2, 'o': 1}\n"
     ]
    }
   ],
   "source": [
    "char=input(\"Enter the string\\n\")\n",
    "count_dict={}\n",
    "for i in char:\n",
    "    count=char.count(i)\n",
    "    if i not in count_dict:\n",
    "        count_dict[i]=count\n",
    "print(count_dict)"
   ]
  },
  {
   "cell_type": "markdown",
   "metadata": {},
   "source": [
    "## 3. Write a program to find the area and perimeter of a rectangle using functions"
   ]
  },
  {
   "cell_type": "code",
   "execution_count": 2,
   "metadata": {},
   "outputs": [
    {
     "name": "stdout",
     "output_type": "stream",
     "text": [
      "Enter the length:10\n",
      "Enter the width:7\n",
      "area= 70.0 sq.units\n",
      "perimeter= 34.0 units\n"
     ]
    }
   ],
   "source": [
    "def area_perimeter(length,width):\n",
    "    a = length*width\n",
    "    p=2*(length+width)\n",
    "    return(a,p)\n",
    "l=float(input(\"Enter the length:\"))\n",
    "b=float(input(\"Enter the width:\"))\n",
    "area,perimeter=area_perimeter(l,b)\n",
    "print('area=',area,'sq.units')\n",
    "print('perimeter=',perimeter,'units')"
   ]
  },
  {
   "cell_type": "markdown",
   "metadata": {},
   "source": [
    "## 4. Write a program to print the fibonacci series till a specified number"
   ]
  },
  {
   "cell_type": "code",
   "execution_count": 3,
   "metadata": {},
   "outputs": [
    {
     "name": "stdout",
     "output_type": "stream",
     "text": [
      "Enter the limit for series:25\n",
      "0 1 1 2 3 5 8 13 21 "
     ]
    }
   ],
   "source": [
    "limit=int(input(\"Enter the limit for series:\"))\n",
    "p,q=-1,1\n",
    "while(p+q)<=limit:\n",
    "    print(p+q,end=' ')\n",
    "    p,q=q,p+q"
   ]
  },
  {
   "cell_type": "markdown",
   "metadata": {},
   "source": [
    "## 5. Complete the following code to find the minimum of 3 number using conditional statements. Output should be as displayed"
   ]
  },
  {
   "cell_type": "code",
   "execution_count": 10,
   "metadata": {},
   "outputs": [
    {
     "name": "stdout",
     "output_type": "stream",
     "text": [
      "Enter three numbers followed by \n",
      "  : 100 20 50\n",
      "First number : 100\n",
      "Second number : 20\n",
      "Third number : 50\n",
      "20  is smallest\n"
     ]
    }
   ],
   "source": [
    "a,b,c = input(\"Enter three numbers followed by \\n  : \").split()\n",
    "a=int(a)\n",
    "b=int(b)\n",
    "c=int(c)\n",
    "print(\"First number :\",a)\n",
    "print(\"Second number :\",b)\n",
    "print(\"Third number :\",c)\n",
    "if(a==b==c):\n",
    "    print(\"Entered numbers are equal!!!\")\n",
    "elif(a<b and a<c):\n",
    "    print(a,\" is smallest\")\n",
    "elif(b<a and b<c):\n",
    "    print(b,\" is smallest\")\n",
    "else:\n",
    "    print(c,\" is smallest\")\n",
    "    "
   ]
  },
  {
   "cell_type": "markdown",
   "metadata": {},
   "source": [
    "## 6. Write a program to print star pyramind. The number of rows should be taken as input from the user"
   ]
  },
  {
   "cell_type": "code",
   "execution_count": 7,
   "metadata": {},
   "outputs": [
    {
     "name": "stdout",
     "output_type": "stream",
     "text": [
      "Enter the number of rows:5\n",
      "     * \n",
      "    * * \n",
      "   * * * \n",
      "  * * * * \n",
      " * * * * * \n"
     ]
    }
   ],
   "source": [
    "rows=int(input(\"Enter the number of rows:\"))\n",
    "for i in range(1,rows+1):\n",
    "    print(' '*(rows-i),end=' ')\n",
    "    print('* '*i)\n",
    "    "
   ]
  },
  {
   "cell_type": "markdown",
   "metadata": {},
   "source": [
    "## 7. Complete the following code to convert hour into seconds. Output should be as displayed"
   ]
  },
  {
   "cell_type": "code",
   "execution_count": 45,
   "metadata": {},
   "outputs": [
    {
     "name": "stdin",
     "output_type": "stream",
     "text": [
      "Enter time in Hours : 24\n"
     ]
    },
    {
     "name": "stdout",
     "output_type": "stream",
     "text": [
      "24  Hour is equal to 86400  Seconds\n"
     ]
    }
   ],
   "source": [
    "def to_seconds(t):\n",
    "    \n",
    "    return t\n",
    "time_in_hours = \n",
    "print(time_in_hours ,\" Hour is equal to\" ,to_seconds(time_in_hours) ,\" Seconds\")"
   ]
  },
  {
   "cell_type": "markdown",
   "metadata": {},
   "source": [
    "## 8. Write a program to print multiplication table as below"
   ]
  },
  {
   "cell_type": "code",
   "execution_count": 8,
   "metadata": {
    "scrolled": true
   },
   "outputs": [
    {
     "name": "stdout",
     "output_type": "stream",
     "text": [
      "Enter the number:50\n",
      "Enter the number of rows:10\n",
      "1 \t*\t 50 \t= 50\n",
      "2 \t*\t 50 \t= 100\n",
      "3 \t*\t 50 \t= 150\n",
      "4 \t*\t 50 \t= 200\n",
      "5 \t*\t 50 \t= 250\n",
      "6 \t*\t 50 \t= 300\n",
      "7 \t*\t 50 \t= 350\n",
      "8 \t*\t 50 \t= 400\n",
      "9 \t*\t 50 \t= 450\n",
      "10 \t*\t 50 \t= 500\n"
     ]
    }
   ],
   "source": [
    "number= int(input(\"Enter the number:\"))\n",
    "rows=int(input(\"Enter the number of rows:\"))\n",
    "for i in range(1,rows+1):\n",
    "    print(i,'\\t*\\t',number,'\\t=', i*number)\n"
   ]
  },
  {
   "cell_type": "markdown",
   "metadata": {},
   "source": [
    "## 9. Write a program to take your 5 favorite food as list and print each as 'I like Biriyani'"
   ]
  },
  {
   "cell_type": "code",
   "execution_count": 12,
   "metadata": {},
   "outputs": [
    {
     "name": "stdout",
     "output_type": "stream",
     "text": [
      "Enter the food:Grapes\n",
      "Enter the food:Apple\n",
      "Enter the food:pineapple\n",
      "Enter the food:Fried rice\n",
      "Enter the food:avocado\n",
      "I like Grapes\n",
      "I like Apple\n",
      "I like pineapple\n",
      "I like Fried rice\n",
      "I like avocado\n"
     ]
    }
   ],
   "source": [
    "food_list=['','','','','']\n",
    "for i in range(0,5):\n",
    "    food_list[i]=input(\"Enter the food:\")\n",
    "for food in food_list:\n",
    "    print(\"I like\", food)"
   ]
  },
  {
   "cell_type": "code",
   "execution_count": null,
   "metadata": {},
   "outputs": [],
   "source": []
  }
 ],
 "metadata": {
  "kernelspec": {
   "display_name": "Python 3",
   "language": "python",
   "name": "python3"
  },
  "language_info": {
   "codemirror_mode": {
    "name": "ipython",
    "version": 3
   },
   "file_extension": ".py",
   "mimetype": "text/x-python",
   "name": "python",
   "nbconvert_exporter": "python",
   "pygments_lexer": "ipython3",
   "version": "3.8.3"
  }
 },
 "nbformat": 4,
 "nbformat_minor": 4
}
